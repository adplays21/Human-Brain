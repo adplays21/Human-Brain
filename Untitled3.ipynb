{
  "nbformat": 4,
  "nbformat_minor": 0,
  "metadata": {
    "colab": {
      "provenance": [],
      "authorship_tag": "ABX9TyNhnUzMQv5u2Y6tVRjZt6QB",
      "include_colab_link": true
    },
    "kernelspec": {
      "name": "python3",
      "display_name": "Python 3"
    },
    "language_info": {
      "name": "python"
    }
  },
  "cells": [
    {
      "cell_type": "markdown",
      "metadata": {
        "id": "view-in-github",
        "colab_type": "text"
      },
      "source": [
        "<a href=\"https://colab.research.google.com/github/adplays21/Human-Brain/blob/main/Untitled3.ipynb\" target=\"_parent\"><img src=\"https://colab.research.google.com/assets/colab-badge.svg\" alt=\"Open In Colab\"/></a>"
      ]
    },
    {
      "cell_type": "code",
      "execution_count": 1,
      "metadata": {
        "colab": {
          "base_uri": "https://localhost:8080/"
        },
        "id": "9AWEs6Sz3EpC",
        "outputId": "63ca5159-5189-4746-93c1-38404abfaa5e"
      },
      "outputs": [
        {
          "output_type": "execute_result",
          "data": {
            "text/plain": [
              "[]"
            ]
          },
          "metadata": {},
          "execution_count": 1
        }
      ],
      "source": [
        "import tensorflow as tf\n",
        "\n",
        "tf.config.list_physical_devices('GPU')"
      ]
    },
    {
      "cell_type": "code",
      "source": [
        "fashion_mnist = tf.keras.datasets.fashion_mnist\n",
        "(train_images, train_labels), (valid_images, valid_labels) = fashion_mnist.load_data()"
      ],
      "metadata": {
        "id": "rjqgKHgE3W2d"
      },
      "execution_count": 3,
      "outputs": []
    },
    {
      "cell_type": "code",
      "source": [
        "import matplotlib.pyplot as plt\n",
        "\n",
        "\n",
        "data_idx = 42\n",
        "\n",
        "plt.figure()\n",
        "plt.imshow(train_images[data_idx], cmap='gray')\n",
        "plt.colorbar()\n",
        "plt.grid(False)\n",
        "plt.show()"
      ],
      "metadata": {
        "colab": {
          "base_uri": "https://localhost:8080/",
          "height": 430
        },
        "id": "hQ2jgoRq4G36",
        "outputId": "ab611501-b53e-4afb-f472-0b2ea0f897be"
      },
      "execution_count": 4,
      "outputs": [
        {
          "output_type": "display_data",
          "data": {
            "text/plain": [
              "<Figure size 640x480 with 2 Axes>"
            ],
            "image/png": "[encoded data removed]"
          },
          "metadata": {}
        }
      ]
    },
    {
      "cell_type": "code",
      "source": [
        "train_labels[data_idx]\n"
      ],
      "metadata": {
        "colab": {
          "base_uri": "https://localhost:8080/"
        },
        "id": "j7CNvxAD4RwJ",
        "outputId": "2de6f79f-6504-40dc-8e3a-1660d15f0ef3"
      },
      "execution_count": 5,
      "outputs": [
        {
          "output_type": "execute_result",
          "data": {
            "text/plain": [
              "9"
            ]
          },
          "metadata": {},
          "execution_count": 5
        }
      ]
    },
    {
      "cell_type": "code",
      "source": [
        "import matplotlib.pyplot as plt\n",
        "data_idx = 6174\n",
        "\n",
        "plt.figure()\n",
        "plt.imshow(valid_images[data_idx], cmap='gray')\n",
        "plt.colorbar()\n",
        "plt.grid(False)\n",
        "plt.show()"
      ],
      "metadata": {
        "colab": {
          "base_uri": "https://localhost:8080/",
          "height": 430
        },
        "id": "boHkV9Nj4uQ_",
        "outputId": "72d702b2-fbb4-464e-d8ca-de3eb7b23d21"
      },
      "execution_count": 6,
      "outputs": [
        {
          "output_type": "display_data",
          "data": {
            "text/plain": [
              "<Figure size 640x480 with 2 Axes>"
            ],
            "image/png": "[encoded data removed]"
          },
          "metadata": {}
        }
      ]
    },
    {
      "cell_type": "code",
      "source": [
        "valid_labels[data_idx]\n"
      ],
      "metadata": {
        "colab": {
          "base_uri": "https://localhost:8080/"
        },
        "id": "1gakibpV4ubi",
        "outputId": "4cfcf2a1-228c-4746-88a5-af8421b0366a"
      },
      "execution_count": 7,
      "outputs": [
        {
          "output_type": "execute_result",
          "data": {
            "text/plain": [
              "7"
            ]
          },
          "metadata": {},
          "execution_count": 7
        }
      ]
    },
    {
      "cell_type": "code",
      "source": [
        "valid_images[data_idx]\n"
      ],
      "metadata": {
        "colab": {
          "base_uri": "https://localhost:8080/",
          "height": 68
        },
        "id": "6VXvUB7-5nBR",
        "outputId": "8fa98806-006d-4b16-b688-25acced0d09e"
      },
      "execution_count": 8,
      "outputs": [
        {
          "output_type": "execute_result",
          "data": {
            "text/plain": [
              "array([[  0,   0,   0,   0,   0,   0,   0,   0,   0,   0,   0,   0,   0,\n",
              "          0,   0,   0,   0,   0,   0,   0,   0,   0,   0,   0,   0,   0,\n",
              "          0,   0],\n",
              "       [  0,   0,   0,   0,   0,   0,   0,   0,   0,   0,   0,   0,   0,\n",
              "          0,   0,   0,   0,   0,   0,   0,   0,   0,   0,   0,   0,   0,\n",
              "          0,   0],\n",
              "       [  0,   0,   0,   0,   0,   0,   0,   0,   0,   0,   0,   0,   0,\n",
              "          0,   0,   0,   0,   0,   0,   0,   0,   0,   0,   0,   0,   0,\n",
              "          0,   0],\n",
              "       [  0,   0,   0,   0,   0,   0,   0,   0,   0,   0,   0,   0,   0,\n",
              "          0,   0,   0,   0,   0,   0,   0,   0,   0,   0,   0,   0,   0,\n",
              "          0,   0],\n",
              "       [  0,   0,   0,   0,   0,   0,   0,   0,   0,   0,   0,   0,   0,\n",
              "          0,   0,   0,   0,   0,   0,   0,   0,   0,   0,   0,   0,   0,\n",
              "          0,   0],\n",
              "       [  0,   0,   0,   0,   0,   0,   0,   0,   0,   0,   0,   0,   0,\n",
              "          0,   0,   0,   0,   0,   0,   0,   0,   0,   0,   0,   0,   0,\n",
              "          0,   0],\n",
              "       [  0,   0,   0,   0,   0,   0,   0,   0,   0,   0,   0,   0,   0,\n",
              "          0,   0,   0,   0,   0,   0,   0,   0,   0,   0,   0,   0,   0,\n",
              "          0,   0],\n",
              "       [  0,   0,   0,   0,   0,   0,   0,   0,   0,   0,   0,   0,   0,\n",
              "          0,   0,   0, 155, 133,   0,   0,   1,   0,   0,   3,   0,   0,\n",
              "          0,   0],\n",
              "       [  0,   0,   0,   0,   0,   0,   0,   0,   0,   5,   0,   0,   0,\n",
              "          1,   0,   0, 175, 235,  35,   0,   3,   0,   5,   2,   3,   1,\n",
              "          0,   0],\n",
              "       [  0,   0,   0,   0,   0,   0,   0,   0,   0,   0,   1,   0,   0,\n",
              "          0,   0,  93, 219, 220,  32,   0,   0,   0,   0,   0,   0,   0,\n",
              "          1,   0],\n",
              "       [  0,   0,   0,   0,   0,   0,   0,   0,   0,   0,   2,   2,   0,\n",
              "          0, 147, 218, 159, 218,  28,   0,   2,   0,  82, 202, 115,   0,\n",
              "          0,   1],\n",
              "       [  0,   0,   0,   0,   0,   0,   0,   0,   2,   0,   0,   0,   0,\n",
              "        144, 248, 155, 105, 174,  87,   0,   0,   0, 233, 253, 213,   8,\n",
              "          0,   1],\n",
              "       [  1,   0,   0,   0,   1,   2,   2,   0,   0,   0,   0,  99, 233,\n",
              "        119,  81,  89, 140, 183, 208, 139,  74, 218, 223, 184, 189, 145,\n",
              "          0,   0],\n",
              "       [  0,   1,   2,   3,   5,   0,   0,   0,   0, 173, 153, 195,  97,\n",
              "        157, 220, 228, 213, 189, 182, 189, 220, 213, 174, 185, 186, 198,\n",
              "          0,   0],\n",
              "       [  1,   0,   0,   0,   0,  10, 129, 202, 198, 129, 149,  84, 124,\n",
              "        236, 221, 209, 226, 221, 166, 186, 179, 178, 205, 177, 206, 196,\n",
              "          0,   0],\n",
              "       [  0,   0,   6,  49,  80, 148, 203, 181, 203, 164, 145, 178, 159,\n",
              "        138, 174, 186, 162, 169, 177, 200, 214, 206, 178, 179, 205, 227,\n",
              "          6,   0],\n",
              "       [  3, 104, 128, 126, 124, 105,  85,  75,  99, 181, 140, 141, 185,\n",
              "        179, 181, 183, 185, 204, 227, 255, 224, 226, 234, 227, 159, 198,\n",
              "        198,   0],\n",
              "       [ 62, 150, 115, 111,  91, 117, 131, 102, 129, 120, 153, 176, 216,\n",
              "        232, 238, 238, 211, 242, 173,  26,   0,  54, 104,  20,   0,   0,\n",
              "         48,  16],\n",
              "       [116, 179, 173, 173, 202, 188, 200, 228, 179, 150, 100,  89, 164,\n",
              "         39,   0,  82, 129,  17,   0,   0,   0,   0,   0,   0,  25,  11,\n",
              "          0,  12],\n",
              "       [ 10, 122, 108, 148, 115, 145, 148,  79,  38,   0,   0,   0,   0,\n",
              "          0,   0,   0,   0,   0,   9,  14,   7,  18,   9,   5,   0,  12,\n",
              "          0,   0],\n",
              "       [  0,   5,  57,  67,   0,   0,   0,   1,   0,   0,   8,   8,  71,\n",
              "         55,  11,  32,  30,  30,  17,   4,   3,   9,  15,  17,  29,  37,\n",
              "         92, 106],\n",
              "       [  0,   0,   0,  58,  50, 142, 169,  80, 144, 156, 148, 159, 152,\n",
              "        156, 136, 151, 142,  70, 139, 161,  98, 131, 145,  60, 141, 121,\n",
              "         77,   0],\n",
              "       [  0,   0,   0,   0,   0,   0,   0,   0,   0,   0,   0,   0,   0,\n",
              "          0,   0,   0,   0,   0,   0,   0,   0,   0,   0,   0,   0,   0,\n",
              "          0,   0],\n",
              "       [  0,   0,   0,   0,   0,   0,   0,   0,   0,   0,   0,   0,   0,\n",
              "          0,   0,   0,   0,   0,   0,   0,   0,   0,   0,   0,   0,   0,\n",
              "          0,   0],\n",
              "       [  0,   0,   0,   0,   0,   0,   0,   0,   0,   0,   0,   0,   0,\n",
              "          0,   0,   0,   0,   0,   0,   0,   0,   0,   0,   0,   0,   0,\n",
              "          0,   0],\n",
              "       [  0,   0,   0,   0,   0,   0,   0,   0,   0,   0,   0,   0,   0,\n",
              "          0,   0,   0,   0,   0,   0,   0,   0,   0,   0,   0,   0,   0,\n",
              "          0,   0],\n",
              "       [  0,   0,   0,   0,   0,   0,   0,   0,   0,   0,   0,   0,   0,\n",
              "          0,   0,   0,   0,   0,   0,   0,   0,   0,   0,   0,   0,   0,\n",
              "          0,   0],\n",
              "       [  0,   0,   0,   0,   0,   0,   0,   0,   0,   0,   0,   0,   0,\n",
              "          0,   0,   0,   0,   0,   0,   0,   0,   0,   0,   0,   0,   0,\n",
              "          0,   0]], dtype=uint8)"
            ],
            "text/html": [
              "<style>\n",
              "      .ndarray_repr .ndarray_raw_data {\n",
              "        display: none;\n",
              "      }\n",
              "      .ndarray_repr.show_array .ndarray_raw_data {\n",
              "        display: block;\n",
              "      }\n",
              "      .ndarray_repr.show_array .ndarray_image_preview {\n",
              "        display: none;\n",
              "      }\n",
              "      </style>\n",
              "      <div id=\"id-3a36279c-8b20-4529-af78-81881aab41ad\" class=\"ndarray_repr\"><pre>ndarray (28, 28) <button style=\"padding: 0 2px;\">show data</button></pre><img src=\"data:image/png;base64,iVBORw0KGgoAAAANSUhEUgAAABwAAAAcCAAAAABXZoBIAAABiklEQVR4nN2RP2gTcRzFP9/fJek1uaaFatIm1TNEULSoSGkgFeKgSx2kWUTQSTq4CXVxcBBxEJcWx4Krg/8Gl0K0IIpDh7qkhBSKSK2m7QXb1CZ3udydky3uuvgZ34c3PB78v8w+AAHtzzQMCLzazKIRVppAaE+6EhBwfXjbw8MFJFD7VVHw+O4Hv4OiuDBFIHtKAUzbszdfXgHWvSUdUQKIUvhwY/371fls951H48vNUu0hgSAiygVeWCeenCvo2zWny3SqMTHyKAl8z43eW/hY7sykL0u958iWV1kx7QM+CEROmhdyG4lqPVPfPGrUuvRk3P4qqUS2LdrkgO/XreZAsSLDbaVUf3Loi9KdN8fIh8ZOrXSsVGo1/T6TNPsirJml3LfRs88tzvTJ7UKbQw1j6NPq4u6l+9Xi6ekfAAw2dg2J3moc/3xYK1WWfy/uDjuxVsc1fiKER6JvQQJ0Clvlgz47O0Ekogw9Fxcgb19LPz1v2DEnZPW25i4m3mXizyas8uu/fPg/5hfiiYXTf86BuQAAAABJRU5ErkJggg==\" class=\"ndarray_image_preview\" /><pre class=\"ndarray_raw_data\">array([[  0,   0,   0,   0,   0,   0,   0,   0,   0,   0,   0,   0,   0,\n",
              "          0,   0,   0,   0,   0,   0,   0,   0,   0,   0,   0,   0,   0,\n",
              "          0,   0],\n",
              "       [  0,   0,   0,   0,   0,   0,   0,   0,   0,   0,   0,   0,   0,\n",
              "          0,   0,   0,   0,   0,   0,   0,   0,   0,   0,   0,   0,   0,\n",
              "          0,   0],\n",
              "       [  0,   0,   0,   0,   0,   0,   0,   0,   0,   0,   0,   0,   0,\n",
              "          0,   0,   0,   0,   0,   0,   0,   0,   0,   0,   0,   0,   0,\n",
              "          0,   0],\n",
              "       [  0,   0,   0,   0,   0,   0,   0,   0,   0,   0,   0,   0,   0,\n",
              "          0,   0,   0,   0,   0,   0,   0,   0,   0,   0,   0,   0,   0,\n",
              "          0,   0],\n",
              "       [  0,   0,   0,   0,   0,   0,   0,   0,   0,   0,   0,   0,   0,\n",
              "          0,   0,   0,   0,   0,   0,   0,   0,   0,   0,   0,   0,   0,\n",
              "          0,   0],\n",
              "       [  0,   0,   0,   0,   0,   0,   0,   0,   0,   0,   0,   0,   0,\n",
              "          0,   0,   0,   0,   0,   0,   0,   0,   0,   0,   0,   0,   0,\n",
              "          0,   0],\n",
              "       [  0,   0,   0,   0,   0,   0,   0,   0,   0,   0,   0,   0,   0,\n",
              "          0,   0,   0,   0,   0,   0,   0,   0,   0,   0,   0,   0,   0,\n",
              "          0,   0],\n",
              "       [  0,   0,   0,   0,   0,   0,   0,   0,   0,   0,   0,   0,   0,\n",
              "          0,   0,   0, 155, 133,   0,   0,   1,   0,   0,   3,   0,   0,\n",
              "          0,   0],\n",
              "       [  0,   0,   0,   0,   0,   0,   0,   0,   0,   5,   0,   0,   0,\n",
              "          1,   0,   0, 175, 235,  35,   0,   3,   0,   5,   2,   3,   1,\n",
              "          0,   0],\n",
              "       [  0,   0,   0,   0,   0,   0,   0,   0,   0,   0,   1,   0,   0,\n",
              "          0,   0,  93, 219, 220,  32,   0,   0,   0,   0,   0,   0,   0,\n",
              "          1,   0],\n",
              "       [  0,   0,   0,   0,   0,   0,   0,   0,   0,   0,   2,   2,   0,\n",
              "          0, 147, 218, 159, 218,  28,   0,   2,   0,  82, 202, 115,   0,\n",
              "          0,   1],\n",
              "       [  0,   0,   0,   0,   0,   0,   0,   0,   2,   0,   0,   0,   0,\n",
              "        144, 248, 155, 105, 174,  87,   0,   0,   0, 233, 253, 213,   8,\n",
              "          0,   1],\n",
              "       [  1,   0,   0,   0,   1,   2,   2,   0,   0,   0,   0,  99, 233,\n",
              "        119,  81,  89, 140, 183, 208, 139,  74, 218, 223, 184, 189, 145,\n",
              "          0,   0],\n",
              "       [  0,   1,   2,   3,   5,   0,   0,   0,   0, 173, 153, 195,  97,\n",
              "        157, 220, 228, 213, 189, 182, 189, 220, 213, 174, 185, 186, 198,\n",
              "          0,   0],\n",
              "       [  1,   0,   0,   0,   0,  10, 129, 202, 198, 129, 149,  84, 124,\n",
              "        236, 221, 209, 226, 221, 166, 186, 179, 178, 205, 177, 206, 196,\n",
              "          0,   0],\n",
              "       [  0,   0,   6,  49,  80, 148, 203, 181, 203, 164, 145, 178, 159,\n",
              "        138, 174, 186, 162, 169, 177, 200, 214, 206, 178, 179, 205, 227,\n",
              "          6,   0],\n",
              "       [  3, 104, 128, 126, 124, 105,  85,  75,  99, 181, 140, 141, 185,\n",
              "        179, 181, 183, 185, 204, 227, 255, 224, 226, 234, 227, 159, 198,\n",
              "        198,   0],\n",
              "       [ 62, 150, 115, 111,  91, 117, 131, 102, 129, 120, 153, 176, 216,\n",
              "        232, 238, 238, 211, 242, 173,  26,   0,  54, 104,  20,   0,   0,\n",
              "         48,  16],\n",
              "       [116, 179, 173, 173, 202, 188, 200, 228, 179, 150, 100,  89, 164,\n",
              "         39,   0,  82, 129,  17,   0,   0,   0,   0,   0,   0,  25,  11,\n",
              "          0,  12],\n",
              "       [ 10, 122, 108, 148, 115, 145, 148,  79,  38,   0,   0,   0,   0,\n",
              "          0,   0,   0,   0,   0,   9,  14,   7,  18,   9,   5,   0,  12,\n",
              "          0,   0],\n",
              "       [  0,   5,  57,  67,   0,   0,   0,   1,   0,   0,   8,   8,  71,\n",
              "         55,  11,  32,  30,  30,  17,   4,   3,   9,  15,  17,  29,  37,\n",
              "         92, 106],\n",
              "       [  0,   0,   0,  58,  50, 142, 169,  80, 144, 156, 148, 159, 152,\n",
              "        156, 136, 151, 142,  70, 139, 161,  98, 131, 145,  60, 141, 121,\n",
              "         77,   0],\n",
              "       [  0,   0,   0,   0,   0,   0,   0,   0,   0,   0,   0,   0,   0,\n",
              "          0,   0,   0,   0,   0,   0,   0,   0,   0,   0,   0,   0,   0,\n",
              "          0,   0],\n",
              "       [  0,   0,   0,   0,   0,   0,   0,   0,   0,   0,   0,   0,   0,\n",
              "          0,   0,   0,   0,   0,   0,   0,   0,   0,   0,   0,   0,   0,\n",
              "          0,   0],\n",
              "       [  0,   0,   0,   0,   0,   0,   0,   0,   0,   0,   0,   0,   0,\n",
              "          0,   0,   0,   0,   0,   0,   0,   0,   0,   0,   0,   0,   0,\n",
              "          0,   0],\n",
              "       [  0,   0,   0,   0,   0,   0,   0,   0,   0,   0,   0,   0,   0,\n",
              "          0,   0,   0,   0,   0,   0,   0,   0,   0,   0,   0,   0,   0,\n",
              "          0,   0],\n",
              "       [  0,   0,   0,   0,   0,   0,   0,   0,   0,   0,   0,   0,   0,\n",
              "          0,   0,   0,   0,   0,   0,   0,   0,   0,   0,   0,   0,   0,\n",
              "          0,   0],\n",
              "       [  0,   0,   0,   0,   0,   0,   0,   0,   0,   0,   0,   0,   0,\n",
              "          0,   0,   0,   0,   0,   0,   0,   0,   0,   0,   0,   0,   0,\n",
              "          0,   0]], dtype=uint8)</pre></div><script>\n",
              "      (() => {\n",
              "      const titles = ['show data', 'hide data'];\n",
              "      let index = 0\n",
              "      document.querySelector('#id-3a36279c-8b20-4529-af78-81881aab41ad button').onclick = (e) => {\n",
              "        document.querySelector('#id-3a36279c-8b20-4529-af78-81881aab41ad').classList.toggle('show_array');\n",
              "        index = (++index) % 2;\n",
              "        document.querySelector('#id-3a36279c-8b20-4529-af78-81881aab41ad button').textContent = titles[index];\n",
              "        e.preventDefault();\n",
              "        e.stopPropagation();\n",
              "      }\n",
              "      })();\n",
              "    </script>"
            ]
          },
          "metadata": {},
          "execution_count": 8
        }
      ]
    },
    {
      "cell_type": "code",
      "source": [
        "number_of_classes = train_labels.max() + 1\n",
        "number_of_classes"
      ],
      "metadata": {
        "colab": {
          "base_uri": "https://localhost:8080/"
        },
        "id": "NiDwz2VV5nEl",
        "outputId": "eebd0c20-0ddb-4b56-e9e0-9f845f13fb34"
      },
      "execution_count": 9,
      "outputs": [
        {
          "output_type": "execute_result",
          "data": {
            "text/plain": [
              "10"
            ]
          },
          "metadata": {},
          "execution_count": 9
        }
      ]
    },
    {
      "cell_type": "code",
      "source": [
        "model = tf.keras.Sequential([\n",
        "    tf.keras.layers.Flatten(input_shape=(28, 28)),\n",
        "    tf.keras.layers.Dense(number_of_classes)\n",
        "])"
      ],
      "metadata": {
        "id": "NiFrr4cb5zX2"
      },
      "execution_count": 10,
      "outputs": []
    },
    {
      "cell_type": "code",
      "source": [
        "model.summary()"
      ],
      "metadata": {
        "colab": {
          "base_uri": "https://localhost:8080/"
        },
        "id": "UbDj8H235zbQ",
        "outputId": "3c1e9246-987d-49e2-f375-b0501affc5ae"
      },
      "execution_count": 11,
      "outputs": [
        {
          "output_type": "stream",
          "name": "stdout",
          "text": [
            "Model: \"sequential\"\n",
            "_________________________________________________________________\n",
            " Layer (type)                Output Shape              Param #   \n",
            "=================================================================\n",
            " flatten (Flatten)           (None, 784)               0         \n",
            "                                                                 \n",
            " dense (Dense)               (None, 10)                7850      \n",
            "                                                                 \n",
            "=================================================================\n",
            "Total params: 7850 (30.66 KB)\n",
            "Trainable params: 7850 (30.66 KB)\n",
            "Non-trainable params: 0 (0.00 Byte)\n",
            "_________________________________________________________________\n"
          ]
        }
      ]
    },
    {
      "cell_type": "code",
      "source": [
        "image_height = 28\n",
        "image_width = 28\n",
        "\n",
        "number_of_weights = image_height * image_width * number_of_classes\n",
        "number_of_weights"
      ],
      "metadata": {
        "colab": {
          "base_uri": "https://localhost:8080/"
        },
        "id": "YVfvWHI16uBe",
        "outputId": "d2084b49-464e-4b77-f683-37513393e276"
      },
      "execution_count": 12,
      "outputs": [
        {
          "output_type": "execute_result",
          "data": {
            "text/plain": [
              "7840"
            ]
          },
          "metadata": {},
          "execution_count": 12
        }
      ]
    },
    {
      "cell_type": "code",
      "source": [
        "tf.keras.utils.plot_model(model, show_shapes=True)"
      ],
      "metadata": {
        "colab": {
          "base_uri": "https://localhost:8080/",
          "height": 312
        },
        "id": "wFYmiEok69rT",
        "outputId": "ab003188-99c2-4828-fff7-79721fe5759b"
      },
      "execution_count": 13,
      "outputs": [
        {
          "output_type": "execute_result",
          "data": {
            "image/png": "[encoded data removed]",
            "text/plain": [
              "<IPython.core.display.Image object>"
            ]
          },
          "metadata": {},
          "execution_count": 13
        }
      ]
    },
    {
      "cell_type": "code",
      "source": [
        "model.compile(optimizer='adam',\n",
        "              loss=tf.keras.losses.SparseCategoricalCrossentropy(from_logits=True),\n",
        "              metrics=['accuracy'])"
      ],
      "metadata": {
        "id": "OAaCf3rD69wt"
      },
      "execution_count": 14,
      "outputs": []
    },
    {
      "cell_type": "code",
      "source": [
        "history = model.fit(\n",
        "    train_images,\n",
        "    train_labels,\n",
        "    epochs=5,\n",
        "    verbose=True,\n",
        "    validation_data=(valid_images, valid_labels)\n",
        ")"
      ],
      "metadata": {
        "colab": {
          "base_uri": "https://localhost:8080/"
        },
        "id": "MnH96sSQ7vQG",
        "outputId": "3f95c6d6-3e58-4f00-a051-b513c2233a62"
      },
      "execution_count": 15,
      "outputs": [
        {
          "output_type": "stream",
          "name": "stdout",
          "text": [
            "Epoch 1/5\n",
            "1875/1875 [==============================] - 4s 2ms/step - loss: 16.8908 - accuracy: 0.7449 - val_loss: 14.9488 - val_accuracy: 0.7483\n",
            "Epoch 2/5\n",
            "1875/1875 [==============================] - 5s 3ms/step - loss: 11.7937 - accuracy: 0.7886 - val_loss: 10.9959 - val_accuracy: 0.8122\n",
            "Epoch 3/5\n",
            "1875/1875 [==============================] - 3s 2ms/step - loss: 10.8515 - accuracy: 0.7967 - val_loss: 15.0574 - val_accuracy: 0.7574\n",
            "Epoch 4/5\n",
            "1875/1875 [==============================] - 3s 2ms/step - loss: 10.3728 - accuracy: 0.7991 - val_loss: 11.2250 - val_accuracy: 0.8016\n",
            "Epoch 5/5\n",
            "1875/1875 [==============================] - 4s 2ms/step - loss: 10.6634 - accuracy: 0.8011 - val_loss: 11.0054 - val_accuracy: 0.7986\n"
          ]
        }
      ]
    },
    {
      "cell_type": "code",
      "source": [
        "model.predict(train_images[0:10])"
      ],
      "metadata": {
        "colab": {
          "base_uri": "https://localhost:8080/"
        },
        "id": "ou9xIOVR7vbO",
        "outputId": "036c19b6-0988-4660-d707-013f74777dc3"
      },
      "execution_count": 16,
      "outputs": [
        {
          "output_type": "stream",
          "name": "stdout",
          "text": [
            "1/1 [==============================] - 0s 73ms/step\n"
          ]
        },
        {
          "output_type": "execute_result",
          "data": {
            "text/plain": [
              "array([[-3.33368378e+02, -3.44360870e+02, -6.95404510e+01,\n",
              "        -1.60133972e+02, -2.41252258e+02,  3.45278229e+02,\n",
              "        -5.95070410e+00,  4.20667114e+02,  1.82344910e+02,\n",
              "         6.75394592e+02],\n",
              "       [ 4.61517273e+02, -1.26722916e+02,  2.90174225e+02,\n",
              "         1.18951408e+02,  4.66649914e+00, -1.27487610e+03,\n",
              "         3.72344849e+02, -1.55610046e+03,  5.52569427e+01,\n",
              "        -8.28664734e+02],\n",
              "       [ 1.38564682e+02,  1.37050125e+02,  1.28488800e+02,\n",
              "         1.38620117e+02,  1.21748108e+02, -4.76787170e+02,\n",
              "         1.44186920e+02, -4.49993530e+02, -2.13040524e+01,\n",
              "        -1.94042969e+02],\n",
              "       [ 2.01865479e+02,  1.42703445e+02,  2.08880554e+02,\n",
              "         1.95572525e+02,  1.38597366e+02, -6.97391968e+02,\n",
              "         2.20124817e+02, -8.96142029e+02, -2.79072590e+01,\n",
              "        -6.07284973e+02],\n",
              "       [ 3.19255524e+02,  4.13648224e+02,  2.60215088e+02,\n",
              "         3.18699097e+02,  3.30100037e+02, -8.76842529e+02,\n",
              "         3.17080750e+02, -4.84471619e+02,  1.44109894e+02,\n",
              "        -6.61115662e+02],\n",
              "       [ 1.99797058e+02,  9.79509430e+01,  4.68904205e+02,\n",
              "         1.54925964e+02,  3.18112122e+02, -7.99417358e+02,\n",
              "         3.24901794e+02, -1.27556531e+03,  1.32737976e+02,\n",
              "        -8.75909729e+02],\n",
              "       [-1.35381454e+02, -8.73188095e+01, -7.57240355e-01,\n",
              "        -3.01369305e+01, -7.47777786e+01,  2.79064697e+02,\n",
              "        -5.75660553e+01,  3.65452057e+02,  1.63623230e+02,\n",
              "         1.99561050e+02],\n",
              "       [ 2.42414608e+01, -1.14459686e+02,  4.99377258e+02,\n",
              "        -1.66117096e+01,  3.80717560e+02, -1.24051453e+03,\n",
              "         2.58901398e+02, -1.45886926e+03,  6.26701202e+01,\n",
              "        -7.14914917e+02],\n",
              "       [-7.82502289e+01, -3.81417999e+02, -1.05854012e+02,\n",
              "        -9.54147415e+01, -1.80252777e+02,  4.09719177e+02,\n",
              "        -5.56898727e+01,  2.04201145e+01, -5.11600266e+01,\n",
              "         1.62155548e+02],\n",
              "       [-1.53970383e+02, -2.76563049e+02, -6.17490768e+00,\n",
              "        -4.23133659e+01, -1.45334045e+02,  6.26577271e+02,\n",
              "         4.93494600e-01, -7.11001205e+01,  1.67484848e+02,\n",
              "         2.87754089e+02]], dtype=float32)"
            ]
          },
          "metadata": {},
          "execution_count": 16
        }
      ]
    },
    {
      "cell_type": "code",
      "source": [
        "data_idx = 8675\n",
        "\n",
        "plt.figure()\n",
        "plt.imshow(train_images[data_idx], cmap='gray')\n",
        "plt.colorbar()\n",
        "plt.grid(False)\n",
        "plt.show()\n",
        "\n",
        "x_values = range(number_of_classes)\n",
        "plt.figure()\n",
        "plt.bar(x_values, model.predict(train_images[data_idx:data_idx+1]).flatten())\n",
        "plt.xticks(range(10))\n",
        "plt.show()\n",
        "\n",
        "print(\"correct answer:\", train_labels[data_idx])"
      ],
      "metadata": {
        "colab": {
          "base_uri": "https://localhost:8080/",
          "height": 878
        },
        "id": "PEqUA7Os9dy0",
        "outputId": "51e42363-710f-4d9e-feda-8d46e5141c2e"
      },
      "execution_count": 17,
      "outputs": [
        {
          "output_type": "display_data",
          "data": {
            "text/plain": [
              "<Figure size 640x480 with 2 Axes>"
            ],
            "image/png": "[encoded data removed]"
          },
          "metadata": {}
        },
        {
          "output_type": "stream",
          "name": "stdout",
          "text": [
            "1/1 [==============================] - 0s 19ms/step\n"
          ]
        },
        {
          "output_type": "display_data",
          "data": {
            "text/plain": [
              "<Figure size 640x480 with 1 Axes>"
            ],
            "image/png": "[encoded data removed]"
          },
          "metadata": {}
        },
        {
          "output_type": "stream",
          "name": "stdout",
          "text": [
            "correct answer: 6\n"
          ]
        }
      ]
    },
    {
      "cell_type": "code",
      "source": [
        "#hence,we are done with creating a human brain and then checking it's maximum accuracy at an extent.\n",
        "    #Hence with each epoche accuracy is increasing with learning from the previous loaded data sets"
      ],
      "metadata": {
        "id": "eYNmf93T-QK0"
      },
      "execution_count": null,
      "outputs": []
    }
  ]
}